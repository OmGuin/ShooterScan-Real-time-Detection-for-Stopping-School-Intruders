{
 "cells": [
  {
   "cell_type": "code",
   "execution_count": null,
   "id": "56ecf9cf-fd01-4416-8c08-f03195e15824",
   "metadata": {},
   "outputs": [],
   "source": [
    "!pip install torchaudio==0.13.0 torchvision==0.14.0 torch==1.13.0"
   ]
  },
  {
   "cell_type": "code",
   "execution_count": null,
   "id": "db189759-4587-4eb2-bf25-1460bc05c1ae",
   "metadata": {},
   "outputs": [],
   "source": [
    "!pip install openmim==0.3.2\n",
    "!mim install mmcv-full==1.7.0\n",
    "!pip install -e ."
   ]
  },
  {
   "cell_type": "code",
   "execution_count": null,
   "id": "9cc73760-fdd8-40f8-b698-198e001d996c",
   "metadata": {
    "scrolled": true
   },
   "outputs": [],
   "source": [
    "!pip install -r requirements.txt "
   ]
  },
  {
   "cell_type": "code",
   "execution_count": null,
   "id": "0c4ad427-ec5d-46f6-83c3-90100ff46446",
   "metadata": {},
   "outputs": [],
   "source": [
    "!apt install libgl1-mesa-glx --yes"
   ]
  },
  {
   "cell_type": "code",
   "execution_count": null,
   "id": "dc04aaed-3ed6-41c1-83a5-a03688e8d240",
   "metadata": {},
   "outputs": [],
   "source": [
    "!pip install mmdet==2.27.0"
   ]
  },
  {
   "cell_type": "code",
   "execution_count": 24,
   "id": "e969fa60-a370-480d-bc54-14c654a0b9bf",
   "metadata": {},
   "outputs": [],
   "source": [
    "import os\n",
    "import cv2\n",
    "import numpy as np\n",
    "from PIL import Image\n",
    "import torch\n",
    "from torchvision import transforms\n",
    "from mmdet.models import build_detector\n",
    "from mmdet.apis import init_detector, inference_detector\n",
    "from mmcv import Config"
   ]
  },
  {
   "cell_type": "code",
   "execution_count": 25,
   "id": "e51517fa-ef30-47fc-afe7-3dc399c37ee2",
   "metadata": {},
   "outputs": [
    {
     "name": "stdout",
     "output_type": "stream",
     "text": [
      "cuda\n",
      "load checkpoint from local path: best_bbox_h_mAP_epoch_33.pth\n"
     ]
    }
   ],
   "source": [
    "model_path = \"best_bbox_h_mAP_epoch_33.pth\" \n",
    "config_path = \"deformable_detr_config.py\"\n",
    "device = torch.device(\"cuda\" if torch.cuda.is_available() else \"cpu\")\n",
    "print(device)\n",
    "model = init_detector(config_path, model_path, device=device)"
   ]
  },
  {
   "cell_type": "code",
   "execution_count": null,
   "id": "a49ca1bf-1c4f-45f4-90c3-9ee55ae0f3e4",
   "metadata": {},
   "outputs": [],
   "source": [
    "frame = cv2.imread(\"20241203_170425.jpg\")  # test frame\n",
    "results = inference_detector(model, frame)\n",
    "print(f\"Inference results: {results}\")\n"
   ]
  },
  {
   "cell_type": "code",
   "execution_count": 49,
   "id": "98dd4209",
   "metadata": {},
   "outputs": [
    {
     "name": "stdout",
     "output_type": "stream",
     "text": [
      "30.0\n"
     ]
    }
   ],
   "source": [
    "import cv2\n",
    "cap = cv2.VideoCapture(\"output.mp4\")\n",
    "fps = cap.get(cv2.CAP_PROP_FPS)\n",
    "print(fps)\n",
    "\n",
    "video = []\n",
    "\n",
    "while True:    \n",
    "    rt, frame = cap.read()\n",
    "    if not rt:\n",
    "        break\n",
    "    \n",
    "    frame_rgb = cv2.cvtColor(frame, cv2.COLOR_BGR2RGB)\n",
    "    frame_resized = cv2.resize(frame_rgb, (640, 480))\n",
    "\n",
    "    video.append(frame_resized)\n",
    "\n",
    "#print(video)"
   ]
  },
  {
   "cell_type": "code",
   "execution_count": null,
   "id": "8a49069e-69ed-4d82-a25b-f9c9108b5386",
   "metadata": {},
   "outputs": [
    {
     "name": "stderr",
     "output_type": "stream",
     "text": [
      "100%|██████████| 2606/2606 [02:10<00:00, 20.04it/s]"
     ]
    },
    {
     "name": "stdout",
     "output_type": "stream",
     "text": [
      "done\n"
     ]
    },
    {
     "name": "stderr",
     "output_type": "stream",
     "text": [
      "\n"
     ]
    }
   ],
   "source": [
    "from time import sleep\n",
    "from tqdm import tqdm\n",
    "import cv2\n",
    "\n",
    "fourcc = cv2.VideoWriter_fourcc(*'mp4v')\n",
    "saved_video = cv2.VideoWriter(\"saved_video.mp4\", fourcc, fps, (640, 480))\n",
    "\n",
    "for frame_resized in tqdm(video):\n",
    "    results = inference_detector(model, frame_resized)\n",
    "\n",
    "    #print(f\"Results length: {len(results)}\")\n",
    "    for idx, result in enumerate(results):\n",
    "        #print(f\"Processing result {idx+1}/{len(results)}\")\n",
    "        for bbox in result:\n",
    "            #print(\"Bounding box:\", bbox)\n",
    "            x_min, y_min, x_max, y_max, score = bbox\n",
    "            if score > 0.6:  # Confidence threshold\n",
    "                label = \"Gun Detected\"\n",
    "                #print(label)\n",
    "                cv2.rectangle(frame_resized, (int(x_min), int(y_min)), (int(x_max), int(y_max)), (0, 255, 0), 2)\n",
    "                #cvzone.cornerRect(frame, [int(x1), int(y1), int(x2-x1), int(y2-y1)], l=9, rt=3)\n",
    "                cv2.putText(frame_resized, label, (int(x_min), int(y_min)-10), cv2.FONT_HERSHEY_SIMPLEX, 0.7, (0, 255, 0), 2)\n",
    "\n",
    "    \n",
    "    frame_resized = frame_resized[:, :, ::-1]\n",
    "    saved_video.write(frame_resized)\n",
    "\n",
    "saved_video.release()\n",
    "cv2.destroyAllWindows()\n",
    "\n",
    "print(\"done\")"
   ]
  }
 ],
 "metadata": {
  "kernelspec": {
   "display_name": "Python 3 (ipykernel)",
   "language": "python",
   "name": "python3"
  },
  "language_info": {
   "codemirror_mode": {
    "name": "ipython",
    "version": 3
   },
   "file_extension": ".py",
   "mimetype": "text/x-python",
   "name": "python",
   "nbconvert_exporter": "python",
   "pygments_lexer": "ipython3",
   "version": "3.9.12"
  }
 },
 "nbformat": 4,
 "nbformat_minor": 5
}
