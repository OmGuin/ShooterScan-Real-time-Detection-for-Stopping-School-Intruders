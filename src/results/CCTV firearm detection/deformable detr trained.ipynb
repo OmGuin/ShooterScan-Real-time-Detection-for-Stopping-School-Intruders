{
 "cells": [
  {
   "cell_type": "code",
   "execution_count": null,
   "id": "8e1aaa96-ecae-4753-879b-1e3090fb7ccc",
   "metadata": {
    "scrolled": true
   },
   "outputs": [],
   "source": [
    "!apt-get install unzip\n",
    "!unzip CCTV-Gun.zip"
   ]
  },
  {
   "cell_type": "code",
   "execution_count": null,
   "id": "003a01f0-b3f0-4b00-843e-10f8bb5ae087",
   "metadata": {},
   "outputs": [],
   "source": [
    "!pip install torchaudio==0.13.0 torchvision==0.14.0 torch==1.13.0"
   ]
  },
  {
   "cell_type": "code",
   "execution_count": null,
   "id": "b146e690-4b70-4f99-b8e7-7af23a1e3d72",
   "metadata": {},
   "outputs": [],
   "source": [
    "%cd CCTV-Gun\n",
    "!pip install openmim==0.3.2\n",
    "!mim install mmcv-full==1.7.0\n",
    "!pip install -e ."
   ]
  },
  {
   "cell_type": "code",
   "execution_count": null,
   "id": "135fc607-74e8-466b-aecf-4d137649c802",
   "metadata": {
    "scrolled": true
   },
   "outputs": [],
   "source": [
    "!pip install -r requirements.txt "
   ]
  },
  {
   "cell_type": "code",
   "execution_count": null,
   "id": "56a6de89-0d2a-4c5c-b12c-56070aeb18b9",
   "metadata": {},
   "outputs": [],
   "source": [
    "!apt install libgl1-mesa-glx --yes"
   ]
  },
  {
   "cell_type": "code",
   "execution_count": null,
   "id": "4a97801a-3c1c-4f22-8b55-7e8569ffdfff",
   "metadata": {
    "scrolled": true
   },
   "outputs": [],
   "source": [
    "%cd CCTV-Gun\n",
    "!python tools/train.py --config configs/gun_detection/deformable_detr.py --dataset-config configs/_base_/datasets/gun_detection/usrt.py --cfg-options data.samples_per_gpu=8"
   ]
  }
 ],
 "metadata": {
  "kernelspec": {
   "display_name": "Python 3 (ipykernel)",
   "language": "python",
   "name": "python3"
  },
  "language_info": {
   "codemirror_mode": {
    "name": "ipython",
    "version": 3
   },
   "file_extension": ".py",
   "mimetype": "text/x-python",
   "name": "python",
   "nbconvert_exporter": "python",
   "pygments_lexer": "ipython3",
   "version": "3.9.12"
  }
 },
 "nbformat": 4,
 "nbformat_minor": 5
}
