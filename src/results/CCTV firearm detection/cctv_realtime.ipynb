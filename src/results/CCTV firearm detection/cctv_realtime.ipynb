{
 "cells": [
  {
   "cell_type": "code",
   "execution_count": null,
   "id": "7259ac0f",
   "metadata": {},
   "outputs": [],
   "source": [
    "!pip install torchaudio==0.13.0 torchvision==0.14.0 torch==1.13.0"
   ]
  },
  {
   "cell_type": "code",
   "execution_count": null,
   "id": "bb887c49",
   "metadata": {},
   "outputs": [],
   "source": [
    "!pip install openmim==0.3.2\n",
    "!mim install mmcv-full==1.7.0\n",
    "!pip install -e ."
   ]
  },
  {
   "cell_type": "code",
   "execution_count": null,
   "id": "93f488cd",
   "metadata": {},
   "outputs": [],
   "source": [
    "!pip install -r requirements.txt "
   ]
  },
  {
   "cell_type": "code",
   "execution_count": null,
   "id": "ef9c037b",
   "metadata": {},
   "outputs": [],
   "source": [
    "!apt install libgl1-mesa-glx --yes"
   ]
  },
  {
   "cell_type": "code",
   "execution_count": null,
   "id": "4246784a",
   "metadata": {},
   "outputs": [],
   "source": [
    "!pip install mmdet==2.27.0"
   ]
  },
  {
   "cell_type": "code",
   "execution_count": null,
   "id": "85c120ba",
   "metadata": {},
   "outputs": [],
   "source": [
    "import os\n",
    "import cv2\n",
    "import numpy as np\n",
    "from PIL import Image\n",
    "import torch\n",
    "from torchvision import transforms\n",
    "from mmdet.models import build_detector\n",
    "from mmdet.apis import init_detector, inference_detector\n",
    "from mmcv import Config"
   ]
  },
  {
   "cell_type": "code",
   "execution_count": null,
   "id": "11bbc888",
   "metadata": {},
   "outputs": [],
   "source": [
    "model_path = \"best_bbox_h_mAP_epoch_33.pth\" \n",
    "config_path = \"src/deformable_detr/deformable_detr_r50_16x2_50e_coco.py\"\n",
    "device = torch.device(\"cuda\" if torch.cuda.is_available() else \"cpu\")\n",
    "print(device)\n",
    "model = init_detector(config_path, model_path, device=device)"
   ]
  },
  {
   "cell_type": "code",
   "execution_count": null,
   "id": "ec5b28e1",
   "metadata": {},
   "outputs": [],
   "source": [
    "frame = cv2.imread(\"20241203_170425.jpg\")  # test frame\n",
    "results = inference_detector(model, frame)\n",
    "print(f\"Inference results: {results}\")"
   ]
  },
  {
   "cell_type": "code",
   "execution_count": null,
   "id": "89d57a5f",
   "metadata": {},
   "outputs": [],
   "source": [
    "import cv2\n",
    "from tqdm import tqdm\n",
    "from time import sleep\n",
    "\n",
    "# realtime webcam\n",
    "cap = cv2.VideoCapture(0)\n",
    "\n",
    "fps = cap.get(cv2.CAP_PROP_FPS)\n",
    "if fps == 0:\n",
    "    fps = 30.0\n",
    "print(fps)\n",
    "\n",
    "fourcc = cv2.VideoWriter_fourcc(*'mp4v')\n",
    "saved_video = cv2.VideoWriter(\"saved_video.mp4\", fourcc, fps, (640, 480))\n",
    "\n",
    "while True:\n",
    "    ret, frame = cap.read()\n",
    "    if not ret:\n",
    "        print(\"Failed to grab frame.\")\n",
    "        break\n",
    "\n",
    "    frame_rgb = cv2.cvtColor(frame, cv2.COLOR_BGR2RGB)\n",
    "    frame_resized = cv2.resize(frame_rgb, (640, 480))\n",
    "\n",
    "    results = inference_detector(model, frame_resized)\n",
    "\n",
    "    #print(f\"Results length: {len(results)}\")\n",
    "    for idx, result in enumerate(results):\n",
    "        for bbox in result:\n",
    "            #print(\"Bounding box:\", bbox)\n",
    "            x_min, y_min, x_max, y_max, score = bbox\n",
    "            if score > 0.95:  # Confidence threshold\n",
    "                label = \"Gun Detected\"\n",
    "                #print(label)\n",
    "                cv2.rectangle(frame_resized, (int(x_min), int(y_min)), (int(x_max), int(y_max)), (0, 255, 0), 2)\n",
    "                cv2.putText(frame_resized, label, (int(x_min), int(y_min)-10),\n",
    "                            cv2.FONT_HERSHEY_SIMPLEX, 0.7, (0, 255, 0), 2)\n",
    "\n",
    "    frame_resized = frame_resized[:, :, ::-1]\n",
    "    cv2.imshow(\"Real-Time Detection\", frame_display)\n",
    "    saved_video.write(frame_display)\n",
    "\n",
    "    if cv2.waitKey(1) & 0xFF == ord('q'):\n",
    "        break\n",
    "\n",
    "cap.release()\n",
    "saved_video.release()\n",
    "cv2.destroyAllWindows()\n",
    "\n",
    "print(\"done\")"
   ]
  }
 ],
 "metadata": {
  "language_info": {
   "name": "python"
  }
 },
 "nbformat": 4,
 "nbformat_minor": 5
}
